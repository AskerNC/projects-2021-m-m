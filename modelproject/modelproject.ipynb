{
 "cells": [
  {
   "cell_type": "markdown",
   "metadata": {},
   "source": [
    "# Intertemporal consumer problem"
   ]
  },
  {
   "cell_type": "markdown",
   "metadata": {},
   "source": [
    "Team: M&M\n",
    "\n",
    "Members: Markus Gorgone Larsen (hbk716) & Matias Bjørn Frydensberg Hall (pkt593)  \n",
    "\n",
    "Imports and set magics:"
   ]
  },
  {
   "cell_type": "code",
   "execution_count": 2,
   "metadata": {},
   "outputs": [
    {
     "name": "stdout",
     "output_type": "stream",
     "text": [
      "The autoreload extension is already loaded. To reload it, use:\n",
      "  %reload_ext autoreload\n"
     ]
    }
   ],
   "source": [
    "import numpy as np\n",
    "from scipy import optimize\n",
    "from types import SimpleNamespace\n",
    "import sympy as sm\n",
    "%matplotlib inline\n",
    "import matplotlib.pyplot as plt\n",
    "plt.style.use('seaborn-whitegrid')\n",
    "\n",
    "# autoreload modules when code is run\n",
    "%load_ext autoreload\n",
    "%autoreload 2\n",
    "\n",
    "# local modules\n",
    "import modelproject as mp"
   ]
  },
  {
   "cell_type": "markdown",
   "metadata": {},
   "source": [
    "# Model description"
   ]
  },
  {
   "cell_type": "markdown",
   "metadata": {},
   "source": [
    "We consider a **intertemporal consumer utility function in two periods** where:\n",
    "\n",
    "* $C_t$ is consumption in period t\n",
    "* $Y_t^L$ is labour income in period t\n",
    "* $V_1$ is the intial wealth\n",
    "* $T_t$ is tax payment in period t\n",
    "* $\\phi$ is the degree of impatience \n",
    "* $r$ is the real rental rate\n",
    "\n",
    "all for $t\\in\\{1,2\\}$  \n",
    "We also have $C_t > 0$ and $\\phi > 0$  \n",
    "\n",
    "$$ U = u(C_1) + \\frac{u(C_2)}{1+\\phi}, \\qquad u^{''} < 0 $$\n",
    "\n",
    "Given **saving** in period 1 we can find **wealth in period 2**:\n",
    "\n",
    "$$ V_2 = (1+r)\\bigg(V_1+Y_1^L-T_1-C_1\\bigg) = (1+r)S_1 $$\n",
    "\n",
    "And **comsumption in period 2** becomes:\n",
    "\n",
    "$$ C_2 = V_2 + Y_2^L - T_2 $$\n",
    "\n",
    "Consolidating the two we get the **intertemporal budget constraint**:\n",
    "\n",
    "$$C_1 + \\frac{C_2}{1+r} = V_1+Y_1^L-T_1+\\frac{Y_2^L-T_2}{1+r} $$\n",
    "\n",
    "Inserting the expression for $C_2$ into the utility function we get:\n",
    "\n",
    "$$ U = u(C_1) + \\frac{u((1+r)(V_1+Y_1^L-T_1-C_1))}{1+\\phi} $$\n",
    "\n",
    "Assuming our consumer is risk averse we can use the following **utility function**:\n",
    "\n",
    "$$ u(C_t) = lnC_t $$\n",
    "\n",
    "Which gives us the following **maximisation problem** to solve:\n",
    "\n",
    "$$ C_1^* = \\text{arg}\\max_{C_1} \\, lnC_1 + \\frac{ln((1+r)(V_1+Y_1^L-T_1-C_1))}{1+\\phi} $$"
   ]
  },
  {
   "cell_type": "markdown",
   "metadata": {},
   "source": [
    "# Algorithm"
   ]
  },
  {
   "cell_type": "markdown",
   "metadata": {},
   "source": [
    "Given the model above we can now describe our algorithm:  \n",
    "\n",
    "**Problem:** Solve the maximisation problem above  \n",
    "**Inputs:** The variables mentined above\n",
    "**Outputs:** $C_1, \\, C_2, \\, U$  \n",
    "**Algorithm:** `U_optimize()`\n",
    "  * Use scipy to numerically optimize U given parameters\n"
   ]
  },
  {
   "cell_type": "markdown",
   "metadata": {},
   "source": [
    "# Steady state"
   ]
  },
  {
   "cell_type": "markdown",
   "metadata": {},
   "source": [
    "## Analytical solution"
   ]
  },
  {
   "cell_type": "markdown",
   "metadata": {},
   "source": [
    "We can use **sympy** to find an analytical expression for the steady state, i.e. solve\n",
    "\n",
    "$$ \\tilde{k}^{\\ast}= \\frac{1}{(1+n)(1+g)}[sf(\\tilde{k}^{\\ast})+(1-\\delta)\\tilde{k}^{\\ast}] $$"
   ]
  },
  {
   "cell_type": "markdown",
   "metadata": {},
   "source": [
    "First we define all **symbols**:"
   ]
  },
  {
   "cell_type": "code",
   "execution_count": 2,
   "metadata": {},
   "outputs": [],
   "source": [
    "k = sm.symbols('k')\n",
    "alpha = sm.symbols('alpha')\n",
    "delta = sm.symbols('delta')\n",
    "s = sm.symbols('s')\n",
    "g = sm.symbols('g')\n",
    "n = sm.symbols('n')"
   ]
  },
  {
   "cell_type": "markdown",
   "metadata": {},
   "source": [
    "Then we define the **steady state equation**"
   ]
  },
  {
   "cell_type": "code",
   "execution_count": 3,
   "metadata": {},
   "outputs": [],
   "source": [
    "ss = sm.Eq(k,(s*k**alpha+(1-delta)*k)/((1+n)*(1+g)))"
   ]
  },
  {
   "cell_type": "markdown",
   "metadata": {},
   "source": [
    "and **solve** it"
   ]
  },
  {
   "cell_type": "code",
   "execution_count": 4,
   "metadata": {},
   "outputs": [
    {
     "data": {
      "text/latex": [
       "$\\displaystyle \\left(\\frac{\\delta + g n + g + n}{s}\\right)^{\\frac{1}{\\alpha - 1}}$"
      ],
      "text/plain": [
       "((delta + g*n + g + n)/s)**(1/(alpha - 1))"
      ]
     },
     "execution_count": 4,
     "metadata": {},
     "output_type": "execute_result"
    }
   ],
   "source": [
    "kss = sm.solve(ss,k)[0]\n",
    "kss"
   ]
  },
  {
   "cell_type": "markdown",
   "metadata": {},
   "source": [
    "For later use, we turn the solution into a **Python funciton**"
   ]
  },
  {
   "cell_type": "code",
   "execution_count": 5,
   "metadata": {},
   "outputs": [],
   "source": [
    "ss_func = sm.lambdify((s,g,n,alpha,delta),kss)"
   ]
  },
  {
   "cell_type": "markdown",
   "metadata": {},
   "source": [
    "## Numerical solution"
   ]
  },
  {
   "cell_type": "markdown",
   "metadata": {},
   "source": [
    "We can re-write the equation for the steady state capital per capita as\n",
    "\n",
    "\\\\[ 0 = \\frac{1}{(1+n)(1+g)}[sf(\\tilde{k}^{\\ast})+(1-\\delta)\\tilde{k}^{\\ast}] - \\tilde{k}^{\\ast} \\\\]\n",
    "\n",
    "whereby it clearly becomes a **root-finding problem**. Such a problem can be solved by a **bisection method**."
   ]
  },
  {
   "cell_type": "markdown",
   "metadata": {},
   "source": [
    "Define the model **parameters**:"
   ]
  },
  {
   "cell_type": "code",
   "execution_count": 6,
   "metadata": {},
   "outputs": [],
   "source": [
    "s = 0.2\n",
    "g = 0.02\n",
    "n = 0.01\n",
    "alpha = 1/3\n",
    "delta = 0.1"
   ]
  },
  {
   "cell_type": "markdown",
   "metadata": {},
   "source": [
    "**Solve numerically** for the steady state:"
   ]
  },
  {
   "cell_type": "code",
   "execution_count": 7,
   "metadata": {},
   "outputs": [
    {
     "name": "stdout",
     "output_type": "stream",
     "text": [
      "analytical solution is: 1.904\n",
      " numerical solution is: 1.904\n"
     ]
    }
   ],
   "source": [
    "solution = modelproject.solve_for_ss(s,g,n,alpha,delta)\n",
    "\n",
    "print(f'analytical solution is: {ss_func(s,g,n,alpha,delta):.3f}')\n",
    "print(f' numerical solution is: {solution.root:.3f}')"
   ]
  },
  {
   "cell_type": "markdown",
   "metadata": {},
   "source": [
    "# Further analysis"
   ]
  },
  {
   "cell_type": "markdown",
   "metadata": {},
   "source": [
    "ADD FURTHER ANALYSIS, VISUALIZATIONS AND EXTENSIONS."
   ]
  },
  {
   "cell_type": "markdown",
   "metadata": {},
   "source": [
    "# Conclusion"
   ]
  },
  {
   "cell_type": "markdown",
   "metadata": {},
   "source": [
    "ADD CONCISE CONCLUSION."
   ]
  }
 ],
 "metadata": {
  "kernelspec": {
   "display_name": "Python 3",
   "language": "python",
   "name": "python3"
  },
  "language_info": {
   "codemirror_mode": {
    "name": "ipython",
    "version": 3
   },
   "file_extension": ".py",
   "mimetype": "text/x-python",
   "name": "python",
   "nbconvert_exporter": "python",
   "pygments_lexer": "ipython3",
   "version": "3.8.5"
  },
  "toc-autonumbering": true
 },
 "nbformat": 4,
 "nbformat_minor": 4
}
