{
 "cells": [
  {
   "cell_type": "markdown",
   "metadata": {},
   "source": [
    "# Intertemporal consumer problem"
   ]
  },
  {
   "cell_type": "markdown",
   "metadata": {},
   "source": [
    "Team: M&M\n",
    "\n",
    "Members: Markus Gorgone Larsen (hbk716) & Matias Bjørn Frydensberg Hall (pkt593)  \n",
    "\n",
    "Imports and set magics:"
   ]
  },
  {
   "cell_type": "code",
   "execution_count": 1,
   "metadata": {},
   "outputs": [
    {
     "name": "stdout",
     "output_type": "stream",
     "text": [
      "4.02475247964055 4.024752470766639 2.757623620133474\n"
     ]
    }
   ],
   "source": [
    "import numpy as np\n",
    "from scipy import optimize\n",
    "from types import SimpleNamespace\n",
    "import sympy as sm\n",
    "%matplotlib inline\n",
    "import matplotlib.pyplot as plt\n",
    "plt.style.use('seaborn-whitegrid')\n",
    "\n",
    "# autoreload modules when code is run\n",
    "%load_ext autoreload\n",
    "%autoreload 2\n",
    "\n",
    "# local modules\n",
    "import modelproject as mp"
   ]
  },
  {
   "cell_type": "markdown",
   "metadata": {},
   "source": [
    "# Model description"
   ]
  },
  {
   "cell_type": "markdown",
   "metadata": {},
   "source": [
    "We consider a standard **intertemporal consumer utility function in two periods** known from Macro II where:\n",
    "\n",
    "* $C_t$ is consumption in period t\n",
    "* $Y_t^L$ is labour income in period t\n",
    "* $V_1$ is the intial wealth\n",
    "* $T_t$ is tax payment in period t\n",
    "* $\\phi$ is the degree of impatience \n",
    "* $r$ is the real rental rate\n",
    "\n",
    "all for $t\\in\\{1,2\\}$  \n",
    "We also have $C_t > 0$ and $\\phi > 0$  \n",
    "\n",
    "$$ U = u(C_1) + \\frac{u(C_2)}{1+\\phi}, \\qquad u^{''} < 0 $$\n",
    "\n",
    "Given **saving** in period 1 we can find **wealth in period 2**:\n",
    "\n",
    "$$ V_2 = (1+r)\\bigg(V_1+Y_1^L-T_1-C_1\\bigg) = (1+r)S_1 $$\n",
    "\n",
    "And **comsumption in period 2** becomes:\n",
    "\n",
    "$$ C_2 = V_2 + Y_2^L - T_2 $$\n",
    "\n",
    "Consolidating the two we get the **intertemporal budget constraint**:\n",
    "\n",
    "$$C_1 + \\frac{C_2}{1+r} = V_1+Y_1^L-T_1+\\frac{Y_2^L-T_2}{1+r} $$\n",
    "\n",
    "Inserting the expression for $C_2$ into the utility function we get:\n",
    "\n",
    "$$ U = u(C_1) + \\frac{u((1+r)(V_1+Y_1^L-T_1-C_1)+Y_2^L-T_2)}{1+\\phi} $$\n",
    "\n",
    "Assuming our consumer is risk averse we can use the following **utility function**:\n",
    "\n",
    "$$ u(C_t) = lnC_t $$\n",
    "\n",
    "Which gives us the following **maximisation problem** to solve:\n",
    "\n",
    "$$ C_1^* = \\text{arg}\\max_{C_1} \\, lnC_1 + \\frac{ln((1+r)(V_1+Y_1^L-T_1-C_1)+Y_2^L-T_2)}{1+\\phi} $$\n",
    "\n",
    "Further more we know from solving the model analytical that the solution must satisfy:\n",
    "\n",
    "$$ u'(C_1) = \\frac{1+r}{1+\\phi}u'(C_2) $$"
   ]
  },
  {
   "cell_type": "markdown",
   "metadata": {},
   "source": [
    "# Algorithm"
   ]
  },
  {
   "cell_type": "markdown",
   "metadata": {},
   "source": [
    "Given the model above we can now describe our algorithm:  \n",
    "\n",
    "**Problem:** Solve the maximisation problem above  \n",
    "**Inputs:** The variables mentined above  \n",
    "**Outputs:** $C_1, \\, C_2, \\, U$  \n",
    "**Algorithm:** `U_optimize()`\n",
    "  * Use scipy to numerically optimize U given parameters\n"
   ]
  },
  {
   "cell_type": "markdown",
   "metadata": {},
   "source": [
    "# Visualising consumption in both periods"
   ]
  },
  {
   "cell_type": "code",
   "execution_count": null,
   "metadata": {},
   "outputs": [],
   "source": []
  },
  {
   "cell_type": "markdown",
   "metadata": {},
   "source": [
    "# How the rental rate and impatience affect allocation"
   ]
  },
  {
   "cell_type": "code",
   "execution_count": null,
   "metadata": {},
   "outputs": [],
   "source": []
  },
  {
   "cell_type": "markdown",
   "metadata": {},
   "source": [
    "# Extensions to the baseline model"
   ]
  },
  {
   "cell_type": "markdown",
   "metadata": {},
   "source": [
    "Risk free rate and a non risk free rate with different rates of return"
   ]
  },
  {
   "cell_type": "markdown",
   "metadata": {},
   "source": [
    "# Conclusion"
   ]
  },
  {
   "cell_type": "markdown",
   "metadata": {},
   "source": [
    "ADD CONCISE CONCLUSION."
   ]
  }
 ],
 "metadata": {
  "kernelspec": {
   "display_name": "Python 3",
   "language": "python",
   "name": "python3"
  },
  "language_info": {
   "codemirror_mode": {
    "name": "ipython",
    "version": 3
   },
   "file_extension": ".py",
   "mimetype": "text/x-python",
   "name": "python",
   "nbconvert_exporter": "python",
   "pygments_lexer": "ipython3",
   "version": "3.8.5"
  },
  "toc-autonumbering": true
 },
 "nbformat": 4,
 "nbformat_minor": 4
}
