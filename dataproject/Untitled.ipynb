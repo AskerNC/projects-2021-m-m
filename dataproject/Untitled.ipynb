{
 "cells": [
  {
   "cell_type": "code",
   "execution_count": 1,
   "id": "level-burden",
   "metadata": {},
   "outputs": [
    {
     "name": "stdout",
     "output_type": "stream",
     "text": [
      "YDELSESTYPE\n",
      " id = TOT, text = Gross unemployment\n",
      " id = LDP, text = Net unemployed recipients of unemployment benefits\n",
      " id = LKT, text = Net unemployed recipients of social assistance\n",
      " id = ADP, text = Activation of persons on unemployment benefits\n",
      " id = AKT, text = Activation of persons on social assistance (prepared for employment)\n",
      "ALDER\n",
      " id = TOT, text = Age, total\n",
      " id = 16-24, text = 16-24 years\n",
      " id = 25-29, text = 25-29 years\n",
      " id = 30-39, text = 30-39 years\n",
      " id = 40-49, text = 40-49 years\n",
      " id = 50-59, text = 50-59 years\n",
      " id = 6099, text = 60 year and over\n",
      "KØN\n",
      " id = TOT, text = Total\n",
      " id = M, text = Men\n",
      " id = K, text = Women\n"
     ]
    },
    {
     "data": {
      "image/png": "[encoded data removed]",
      "text/plain": [
       "<Figure size 432x288 with 1 Axes>"
      ]
     },
     "metadata": {},
     "output_type": "display_data"
    }
   ],
   "source": [
    "import numpy as np\n",
    "import pandas as pd\n",
    "import datetime\n",
    "\n",
    "import pandas_datareader \n",
    "import pydst \n",
    "import matplotlib.pyplot as plt\n",
    "plt.style.use('seaborn-whitegrid')\n",
    "\n",
    "\n",
    "#Begin to download data using pydst: Danish Statistical Banks Python integration\n",
    "Dst = pydst.Dst(lang='en')\n",
    "Dst.get_subjects()\n",
    "tables = Dst.get_tables(subjects=['04'])\n",
    "tables[tables.id == 'AUF01']\n",
    "unempl_pers = Dst.get_variables(table_id='AUF01')\n",
    "\n",
    "#We find the possible IDs for the chosen variables within the table and prints them with\n",
    "#their associated text to describe the IDs\n",
    "for id in ['YDELSESTYPE','ALDER','KØN']:\n",
    "    \n",
    "    print(id)\n",
    "    values = unempl_pers.loc[unempl_pers.id == id,['values']].values[0,0]\n",
    "    for value in values:      \n",
    "        print(f' id = {value[\"id\"]}, text = {value[\"text\"]}')\n",
    "\n",
    "#We now use the IDs found to write, which variables we want to include for each column.\n",
    "variables = {'OMRÅDE':['*'],'YDELSESTYPE':['TOT'],'ALDER':['TOT'],'KØN':['*'],'TID':['*']}\n",
    "#We now import data from the table_id with the variables we want\n",
    "unempl_AUF1 = Dst.get_data(table_id= 'AUF01', variables=variables)\n",
    "unempl_AUF2 = Dst.get_data(table_id= 'AUF02', variables=variables)\n",
    "\n",
    "#Rewrite the TID parameter to be in datetime (We go from ex. 2020M01 to 2020-01-01)\n",
    "unempl_AUF1.loc[:,'TID']= pd.to_datetime(unempl_AUF1.loc[:,'TID'].str.replace('M',''),format='%Y%m')\n",
    "unempl_AUF2.loc[:,'TID']= pd.to_datetime(unempl_AUF2.loc[:,'TID'].str.replace('M',''),format='%Y%m')\n",
    "\n",
    "#Since AUF2 has the actual unemployment numbers, but AUF1 have more recent data, we choose to merge these.\n",
    "I = (unempl_AUF1[\"TID\"] > \"2020-08-01\") #Choose to stack only rows in AUF1, where there are newer data than in AUF2\n",
    "unempl_AUF1 = unempl_AUF1.loc[I == True] #Overwrite the variable, where I is true.\n",
    "outer = pd.merge(unempl_AUF1, unempl_AUF2, how='outer') #merge the two data sets\n",
    "\n",
    "#Beginning of data cleaning\n",
    "unempl = outer.copy()\n",
    "unempl.rename(columns = {\"OMRÅDE\": \"municipality\", \"ALDER\":\"age\", \"KØN\":\"gender\",\"TID\":\"time\",\"INDHOLD\":\"unemployed\"}, inplace=True) #Renames the columns from Danish to English\n",
    "drop_columns = [\"YDELSESTYPE\", \"AKASSE\"] #Drops the data from YDELSESTYPE and AKASSE as they are unimportant for this assignment\n",
    "unempl.drop(drop_columns, axis=1, inplace=True)\n",
    "unempl = unempl.sort_values(['municipality', 'time']) #Sorts the dataset by municipality then time\n",
    "\n",
    "#Deletes any row, where it isn't a municipality\n",
    "I = unempl.municipality.str.contains('Region')\n",
    "I |= unempl.municipality.str.contains('Province')\n",
    "I |= unempl.municipality.str.contains('All Denmark')\n",
    "unempl = unempl.loc[I == False] #Keep everything that isn't \"I\"\n",
    "\n",
    "fig = plt.figure()\n",
    "ax = fig.add_subplot(1,1,1)"
   ]
  },
  {
   "cell_type": "code",
   "execution_count": null,
   "id": "composed-mills",
   "metadata": {},
   "outputs": [],
   "source": []
  },
  {
   "cell_type": "code",
   "execution_count": 2,
   "id": "killing-uganda",
   "metadata": {},
   "outputs": [
    {
     "data": {
      "application/vnd.jupyter.widget-view+json": {
       "model_id": "eb3be96ba6b94395b323417d4283714b",
       "version_major": 2,
       "version_minor": 0
      },
      "text/plain": [
       "interactive(children=(Dropdown(description='Municipality', index=73, options=('Aabenraa', 'Aalborg', 'Aarhus',…"
      ]
     },
     "metadata": {},
     "output_type": "display_data"
    },
    {
     "data": {
      "text/plain": [
       "<function __main__.plot_interact(df, municipality, gender)>"
      ]
     },
     "execution_count": 2,
     "metadata": {},
     "output_type": "execute_result"
    }
   ],
   "source": [
    "#Widget for unemployed sortable by municipality and gender\n",
    "import ipywidgets as widgets\n",
    "def plot_interact(df, municipality, gender):\n",
    "    I = df['municipality'] == municipality\n",
    "    I &= df['gender'] == gender\n",
    "    df.loc[I,:].plot(x='time', y = 'unemployed', style='-o', legend=False)\n",
    "widgets.interact(plot_interact, \n",
    "    df = widgets.fixed(unempl),\n",
    "    municipality = widgets.Dropdown(description='Municipality', \n",
    "    options=unempl.municipality.unique(), \n",
    "    value='Roskilde'),\n",
    "    gender = widgets.Dropdown(description='Gender',\n",
    "    options=unempl.gender.unique(),\n",
    "    value='Men')\n",
    ")"
   ]
  },
  {
   "cell_type": "code",
   "execution_count": 3,
   "id": "annoying-wrong",
   "metadata": {},
   "outputs": [],
   "source": [
    "#Procent change on total for men and women \n",
    "unique_areas = unempl['municipality'].unique() #Creates an array of each unique municipality name\n",
    "\n",
    "for area in unique_areas: #Takes each individual area with the restriction that gender = Total. Then it loops over each area and creates the pct change\n",
    "    I = (unempl['municipality']==area) & (unempl['gender'] == 'Total')\n",
    "    unempl.loc[I, 'pct change'] = unempl.loc[I,'unemployed'].pct_change(fill_method='ffill')"
   ]
  },
  {
   "cell_type": "code",
   "execution_count": 4,
   "id": "fourth-petite",
   "metadata": {},
   "outputs": [
    {
     "data": {
      "text/html": [
       "<div>\n",
       "<style scoped>\n",
       "    .dataframe tbody tr th:only-of-type {\n",
       "        vertical-align: middle;\n",
       "    }\n",
       "\n",
       "    .dataframe tbody tr th {\n",
       "        vertical-align: top;\n",
       "    }\n",
       "\n",
       "    .dataframe thead th {\n",
       "        text-align: right;\n",
       "    }\n",
       "</style>\n",
       "<table border=\"1\" class=\"dataframe\">\n",
       "  <thead>\n",
       "    <tr style=\"text-align: right;\">\n",
       "      <th></th>\n",
       "      <th>municipality</th>\n",
       "      <th>age</th>\n",
       "      <th>gender</th>\n",
       "      <th>time</th>\n",
       "      <th>unemployed</th>\n",
       "      <th>pct change</th>\n",
       "    </tr>\n",
       "  </thead>\n",
       "  <tbody>\n",
       "    <tr>\n",
       "      <th>6889</th>\n",
       "      <td>Aabenraa</td>\n",
       "      <td>Age, total</td>\n",
       "      <td>Total</td>\n",
       "      <td>2007-01-01</td>\n",
       "      <td>1500</td>\n",
       "      <td>NaN</td>\n",
       "    </tr>\n",
       "    <tr>\n",
       "      <th>2369</th>\n",
       "      <td>Aabenraa</td>\n",
       "      <td>Age, total</td>\n",
       "      <td>Total</td>\n",
       "      <td>2007-02-01</td>\n",
       "      <td>1443</td>\n",
       "      <td>-0.038000</td>\n",
       "    </tr>\n",
       "    <tr>\n",
       "      <th>6960</th>\n",
       "      <td>Aabenraa</td>\n",
       "      <td>Age, total</td>\n",
       "      <td>Total</td>\n",
       "      <td>2007-03-01</td>\n",
       "      <td>1325</td>\n",
       "      <td>-0.081774</td>\n",
       "    </tr>\n",
       "    <tr>\n",
       "      <th>3195</th>\n",
       "      <td>Aabenraa</td>\n",
       "      <td>Age, total</td>\n",
       "      <td>Total</td>\n",
       "      <td>2007-04-01</td>\n",
       "      <td>1306</td>\n",
       "      <td>-0.014340</td>\n",
       "    </tr>\n",
       "    <tr>\n",
       "      <th>3294</th>\n",
       "      <td>Aabenraa</td>\n",
       "      <td>Age, total</td>\n",
       "      <td>Total</td>\n",
       "      <td>2007-05-01</td>\n",
       "      <td>1191</td>\n",
       "      <td>-0.088055</td>\n",
       "    </tr>\n",
       "    <tr>\n",
       "      <th>...</th>\n",
       "      <td>...</td>\n",
       "      <td>...</td>\n",
       "      <td>...</td>\n",
       "      <td>...</td>\n",
       "      <td>...</td>\n",
       "      <td>...</td>\n",
       "    </tr>\n",
       "    <tr>\n",
       "      <th>563</th>\n",
       "      <td>Ærø</td>\n",
       "      <td>Age, total</td>\n",
       "      <td>Total</td>\n",
       "      <td>2020-10-01</td>\n",
       "      <td>69</td>\n",
       "      <td>-0.028169</td>\n",
       "    </tr>\n",
       "    <tr>\n",
       "      <th>845</th>\n",
       "      <td>Ærø</td>\n",
       "      <td>Age, total</td>\n",
       "      <td>Total</td>\n",
       "      <td>2020-11-01</td>\n",
       "      <td>86</td>\n",
       "      <td>0.246377</td>\n",
       "    </tr>\n",
       "    <tr>\n",
       "      <th>1169</th>\n",
       "      <td>Ærø</td>\n",
       "      <td>Age, total</td>\n",
       "      <td>Total</td>\n",
       "      <td>2020-12-01</td>\n",
       "      <td>94</td>\n",
       "      <td>0.093023</td>\n",
       "    </tr>\n",
       "    <tr>\n",
       "      <th>1259</th>\n",
       "      <td>Ærø</td>\n",
       "      <td>Age, total</td>\n",
       "      <td>Total</td>\n",
       "      <td>2021-01-01</td>\n",
       "      <td>107</td>\n",
       "      <td>0.138298</td>\n",
       "    </tr>\n",
       "    <tr>\n",
       "      <th>1225</th>\n",
       "      <td>Ærø</td>\n",
       "      <td>Age, total</td>\n",
       "      <td>Total</td>\n",
       "      <td>2021-02-01</td>\n",
       "      <td>111</td>\n",
       "      <td>0.037383</td>\n",
       "    </tr>\n",
       "  </tbody>\n",
       "</table>\n",
       "<p>16830 rows × 6 columns</p>\n",
       "</div>"
      ],
      "text/plain": [
       "     municipality         age gender       time  unemployed  pct change\n",
       "6889     Aabenraa  Age, total  Total 2007-01-01        1500         NaN\n",
       "2369     Aabenraa  Age, total  Total 2007-02-01        1443   -0.038000\n",
       "6960     Aabenraa  Age, total  Total 2007-03-01        1325   -0.081774\n",
       "3195     Aabenraa  Age, total  Total 2007-04-01        1306   -0.014340\n",
       "3294     Aabenraa  Age, total  Total 2007-05-01        1191   -0.088055\n",
       "...           ...         ...    ...        ...         ...         ...\n",
       "563           Ærø  Age, total  Total 2020-10-01          69   -0.028169\n",
       "845           Ærø  Age, total  Total 2020-11-01          86    0.246377\n",
       "1169          Ærø  Age, total  Total 2020-12-01          94    0.093023\n",
       "1259          Ærø  Age, total  Total 2021-01-01         107    0.138298\n",
       "1225          Ærø  Age, total  Total 2021-02-01         111    0.037383\n",
       "\n",
       "[16830 rows x 6 columns]"
      ]
     },
     "execution_count": 4,
     "metadata": {},
     "output_type": "execute_result"
    }
   ],
   "source": [
    "unempl_pct = unempl[unempl['gender'] == 'Total']\n",
    "unempl_pct"
   ]
  },
  {
   "cell_type": "code",
   "execution_count": 5,
   "id": "numeric-council",
   "metadata": {},
   "outputs": [
    {
     "data": {
      "application/vnd.jupyter.widget-view+json": {
       "model_id": "e1db3df0d5f14b1b9847a57cbc062af8",
       "version_major": 2,
       "version_minor": 0
      },
      "text/plain": [
       "interactive(children=(Dropdown(description='Municipality', index=73, options=('Aabenraa', 'Aalborg', 'Aarhus',…"
      ]
     },
     "metadata": {},
     "output_type": "display_data"
    },
    {
     "data": {
      "text/plain": [
       "<function __main__.plot_interact(df, municipality)>"
      ]
     },
     "execution_count": 5,
     "metadata": {},
     "output_type": "execute_result"
    }
   ],
   "source": [
    "def plot_interact(df, municipality):\n",
    "    I = df['municipality'] == municipality\n",
    "    df.loc[I,:].plot.bar(x='time', y = 'pct change', style='-o', legend=False)\n",
    "    plt.locator_params(axis='x', nbins=15)\n",
    "widgets.interact(plot_interact, \n",
    "    df = widgets.fixed(unempl_pct),\n",
    "    municipality = widgets.Dropdown(description='Municipality', \n",
    "    options=unempl.municipality.unique(), \n",
    "    value='Roskilde')\n",
    ")"
   ]
  },
  {
   "cell_type": "code",
   "execution_count": null,
   "id": "exciting-lyric",
   "metadata": {},
   "outputs": [],
   "source": []
  }
 ],
 "metadata": {
  "kernelspec": {
   "display_name": "Python 3",
   "language": "python",
   "name": "python3"
  },
  "language_info": {
   "codemirror_mode": {
    "name": "ipython",
    "version": 3
   },
   "file_extension": ".py",
   "mimetype": "text/x-python",
   "name": "python",
   "nbconvert_exporter": "python",
   "pygments_lexer": "ipython3",
   "version": "3.8.8"
  }
 },
 "nbformat": 4,
 "nbformat_minor": 5
}
