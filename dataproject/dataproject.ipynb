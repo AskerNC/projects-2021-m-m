{
 "cells": [
  {
   "cell_type": "markdown",
   "metadata": {},
   "source": [
    "# Development in Danish unemployment, 2007-2020"
   ]
  },
  {
   "cell_type": "markdown",
   "metadata": {},
   "source": [
    "Imports and set magics:"
   ]
  },
  {
   "cell_type": "code",
   "execution_count": 1,
   "metadata": {},
   "outputs": [],
   "source": [
    "import numpy as np\n",
    "import pandas as pd\n",
    "import datetime\n",
    "import ipywidgets as widgets\n",
    "import pandas_datareader \n",
    "import pydst # install with pip install git+https://github.com/elben10/pydst\n",
    "import matplotlib.pyplot as plt\n",
    "plt.style.use('seaborn-whitegrid') \n",
    "\n",
    "# autoreload modules when code is run\n",
    "%load_ext autoreload\n",
    "%autoreload 2\n",
    "\n",
    "# local modules\n",
    "#No local modules used"
   ]
  },
  {
   "cell_type": "markdown",
   "metadata": {},
   "source": [
    "# Read, clean and merge data"
   ]
  },
  {
   "cell_type": "markdown",
   "metadata": {},
   "source": [
    "Begin to download unemployment data using pydst - Danish Statistical Banks Python integration:"
   ]
  },
  {
   "cell_type": "code",
   "execution_count": 2,
   "metadata": {},
   "outputs": [],
   "source": [
    "Dst = pydst.Dst(lang='en')\n",
    "Dst.get_subjects()\n",
    "tables = Dst.get_tables(subjects=['04'])\n",
    "tables[tables.id == 'AUF01']\n",
    "unempl_pers = Dst.get_variables(table_id='AUF01')"
   ]
  },
  {
   "cell_type": "markdown",
   "metadata": {},
   "source": [
    "We find the possible IDs for the chosen variables within the table and prints them with their associated text to describe the IDs:"
   ]
  },
  {
   "cell_type": "code",
   "execution_count": 3,
   "metadata": {},
   "outputs": [
    {
     "name": "stdout",
     "output_type": "stream",
     "text": [
      "YDELSESTYPE\n",
      " id = TOT, text = Gross unemployment\n",
      " id = LDP, text = Net unemployed recipients of unemployment benefits\n",
      " id = LKT, text = Net unemployed recipients of social assistance\n",
      " id = ADP, text = Activation of persons on unemployment benefits\n",
      " id = AKT, text = Activation of persons on social assistance (prepared for employment)\n",
      "ALDER\n",
      " id = TOT, text = Age, total\n",
      " id = 16-24, text = 16-24 years\n",
      " id = 25-29, text = 25-29 years\n",
      " id = 30-39, text = 30-39 years\n",
      " id = 40-49, text = 40-49 years\n",
      " id = 50-59, text = 50-59 years\n",
      " id = 6099, text = 60 year and over\n",
      "KØN\n",
      " id = TOT, text = Total\n",
      " id = M, text = Men\n",
      " id = K, text = Women\n"
     ]
    }
   ],
   "source": [
    "for id in ['YDELSESTYPE','ALDER','KØN']:\n",
    "    \n",
    "    print(id)\n",
    "    values = unempl_pers.loc[unempl_pers.id == id,['values']].values[0,0]\n",
    "    for value in values:      \n",
    "        print(f' id = {value[\"id\"]}, text = {value[\"text\"]}')"
   ]
  },
  {
   "cell_type": "markdown",
   "metadata": {},
   "source": [
    "We now use the IDs found to write, which variables we want to include for each column and import data from the table_id with the variables we want:"
   ]
  },
  {
   "cell_type": "code",
   "execution_count": 4,
   "metadata": {},
   "outputs": [],
   "source": [
    "variables = {'OMRÅDE':['*'],'YDELSESTYPE':['TOT'],'ALDER':['TOT'],'KØN':['*'],'TID':['*']}\n",
    "unempl_AUF1 = Dst.get_data(table_id= 'AUF01', variables=variables)\n",
    "unempl_AUF2 = Dst.get_data(table_id= 'AUF02', variables=variables)"
   ]
  },
  {
   "cell_type": "markdown",
   "metadata": {},
   "source": [
    "Rewrite the TID parameter to be in datetime (We go from ex. 2020M01 to 2020-01-01):"
   ]
  },
  {
   "cell_type": "code",
   "execution_count": 5,
   "metadata": {},
   "outputs": [],
   "source": [
    "unempl_AUF1.loc[:,'TID']= pd.to_datetime(unempl_AUF1.loc[:,'TID'].str.replace('M',''),format='%Y%m')\n",
    "unempl_AUF2.loc[:,'TID']= pd.to_datetime(unempl_AUF2.loc[:,'TID'].str.replace('M',''),format='%Y%m')"
   ]
  },
  {
   "cell_type": "code",
   "execution_count": 6,
   "metadata": {},
   "outputs": [
    {
     "data": {
      "text/plain": [
       "Timestamp('2020-08-01 00:00:00')"
      ]
     },
     "execution_count": 6,
     "metadata": {},
     "output_type": "execute_result"
    }
   ],
   "source": [
    "unempl_AUF2['TID'].max()"
   ]
  },
  {
   "cell_type": "markdown",
   "metadata": {},
   "source": [
    "Since AUF2 has the actual unemployment numbers, but AUF1 have more recent data, we choose to merge these."
   ]
  },
  {
   "cell_type": "code",
   "execution_count": 7,
   "metadata": {},
   "outputs": [],
   "source": [
    "I = (unempl_AUF1[\"TID\"] > \"2020-08-01\") #Choose to stack only rows in AUF1, where there are newer data than in AUF2\n",
    "unempl_AUF1 = unempl_AUF1.loc[I == True] #Overwrite the variable, where I is true.\n",
    "outer = pd.merge(unempl_AUF1, unempl_AUF2, how='outer') #merge the two data sets"
   ]
  },
  {
   "cell_type": "code",
   "execution_count": 8,
   "metadata": {},
   "outputs": [
    {
     "data": {
      "text/html": [
       "<div>\n",
       "<style scoped>\n",
       "    .dataframe tbody tr th:only-of-type {\n",
       "        vertical-align: middle;\n",
       "    }\n",
       "\n",
       "    .dataframe tbody tr th {\n",
       "        vertical-align: top;\n",
       "    }\n",
       "\n",
       "    .dataframe thead th {\n",
       "        text-align: right;\n",
       "    }\n",
       "</style>\n",
       "<table border=\"1\" class=\"dataframe\">\n",
       "  <thead>\n",
       "    <tr style=\"text-align: right;\">\n",
       "      <th></th>\n",
       "      <th>OMRÅDE</th>\n",
       "      <th>YDELSESTYPE</th>\n",
       "      <th>ALDER</th>\n",
       "      <th>KØN</th>\n",
       "      <th>TID</th>\n",
       "      <th>AKASSE</th>\n",
       "      <th>INDHOLD</th>\n",
       "    </tr>\n",
       "  </thead>\n",
       "  <tbody>\n",
       "    <tr>\n",
       "      <th>0</th>\n",
       "      <td>Province Sydjylland</td>\n",
       "      <td>Gross unemployment</td>\n",
       "      <td>Age, total</td>\n",
       "      <td>Women</td>\n",
       "      <td>2020-09-01</td>\n",
       "      <td>Total</td>\n",
       "      <td>6736</td>\n",
       "    </tr>\n",
       "    <tr>\n",
       "      <th>1</th>\n",
       "      <td>Province Sydjylland</td>\n",
       "      <td>Gross unemployment</td>\n",
       "      <td>Age, total</td>\n",
       "      <td>Men</td>\n",
       "      <td>2020-09-01</td>\n",
       "      <td>Total</td>\n",
       "      <td>6794</td>\n",
       "    </tr>\n",
       "    <tr>\n",
       "      <th>2</th>\n",
       "      <td>Province Sydjylland</td>\n",
       "      <td>Gross unemployment</td>\n",
       "      <td>Age, total</td>\n",
       "      <td>Total</td>\n",
       "      <td>2020-09-01</td>\n",
       "      <td>Total</td>\n",
       "      <td>13530</td>\n",
       "    </tr>\n",
       "    <tr>\n",
       "      <th>3</th>\n",
       "      <td>Copenhagen</td>\n",
       "      <td>Gross unemployment</td>\n",
       "      <td>Age, total</td>\n",
       "      <td>Women</td>\n",
       "      <td>2020-09-01</td>\n",
       "      <td>Total</td>\n",
       "      <td>10779</td>\n",
       "    </tr>\n",
       "    <tr>\n",
       "      <th>4</th>\n",
       "      <td>Copenhagen</td>\n",
       "      <td>Gross unemployment</td>\n",
       "      <td>Age, total</td>\n",
       "      <td>Men</td>\n",
       "      <td>2020-09-01</td>\n",
       "      <td>Total</td>\n",
       "      <td>10261</td>\n",
       "    </tr>\n",
       "    <tr>\n",
       "      <th>...</th>\n",
       "      <td>...</td>\n",
       "      <td>...</td>\n",
       "      <td>...</td>\n",
       "      <td>...</td>\n",
       "      <td>...</td>\n",
       "      <td>...</td>\n",
       "      <td>...</td>\n",
       "    </tr>\n",
       "    <tr>\n",
       "      <th>59155</th>\n",
       "      <td>Region Syddanmark</td>\n",
       "      <td>Gross unemployment</td>\n",
       "      <td>Age, total</td>\n",
       "      <td>Men</td>\n",
       "      <td>2019-06-01</td>\n",
       "      <td>Total</td>\n",
       "      <td>9474</td>\n",
       "    </tr>\n",
       "    <tr>\n",
       "      <th>59156</th>\n",
       "      <td>Region Syddanmark</td>\n",
       "      <td>Gross unemployment</td>\n",
       "      <td>Age, total</td>\n",
       "      <td>Total</td>\n",
       "      <td>2019-06-01</td>\n",
       "      <td>Total</td>\n",
       "      <td>19495</td>\n",
       "    </tr>\n",
       "    <tr>\n",
       "      <th>59157</th>\n",
       "      <td>Rudersdal</td>\n",
       "      <td>Gross unemployment</td>\n",
       "      <td>Age, total</td>\n",
       "      <td>Women</td>\n",
       "      <td>2019-06-01</td>\n",
       "      <td>Total</td>\n",
       "      <td>349</td>\n",
       "    </tr>\n",
       "    <tr>\n",
       "      <th>59158</th>\n",
       "      <td>Rudersdal</td>\n",
       "      <td>Gross unemployment</td>\n",
       "      <td>Age, total</td>\n",
       "      <td>Men</td>\n",
       "      <td>2019-06-01</td>\n",
       "      <td>Total</td>\n",
       "      <td>309</td>\n",
       "    </tr>\n",
       "    <tr>\n",
       "      <th>59159</th>\n",
       "      <td>Rudersdal</td>\n",
       "      <td>Gross unemployment</td>\n",
       "      <td>Age, total</td>\n",
       "      <td>Total</td>\n",
       "      <td>2019-06-01</td>\n",
       "      <td>Total</td>\n",
       "      <td>658</td>\n",
       "    </tr>\n",
       "  </tbody>\n",
       "</table>\n",
       "<p>59160 rows × 7 columns</p>\n",
       "</div>"
      ],
      "text/plain": [
       "                    OMRÅDE         YDELSESTYPE       ALDER    KØN        TID  \\\n",
       "0      Province Sydjylland  Gross unemployment  Age, total  Women 2020-09-01   \n",
       "1      Province Sydjylland  Gross unemployment  Age, total    Men 2020-09-01   \n",
       "2      Province Sydjylland  Gross unemployment  Age, total  Total 2020-09-01   \n",
       "3               Copenhagen  Gross unemployment  Age, total  Women 2020-09-01   \n",
       "4               Copenhagen  Gross unemployment  Age, total    Men 2020-09-01   \n",
       "...                    ...                 ...         ...    ...        ...   \n",
       "59155    Region Syddanmark  Gross unemployment  Age, total    Men 2019-06-01   \n",
       "59156    Region Syddanmark  Gross unemployment  Age, total  Total 2019-06-01   \n",
       "59157            Rudersdal  Gross unemployment  Age, total  Women 2019-06-01   \n",
       "59158            Rudersdal  Gross unemployment  Age, total    Men 2019-06-01   \n",
       "59159            Rudersdal  Gross unemployment  Age, total  Total 2019-06-01   \n",
       "\n",
       "      AKASSE  INDHOLD  \n",
       "0      Total     6736  \n",
       "1      Total     6794  \n",
       "2      Total    13530  \n",
       "3      Total    10779  \n",
       "4      Total    10261  \n",
       "...      ...      ...  \n",
       "59155  Total     9474  \n",
       "59156  Total    19495  \n",
       "59157  Total      349  \n",
       "59158  Total      309  \n",
       "59159  Total      658  \n",
       "\n",
       "[59160 rows x 7 columns]"
      ]
     },
     "execution_count": 8,
     "metadata": {},
     "output_type": "execute_result"
    }
   ],
   "source": [
    "outer"
   ]
  },
  {
   "cell_type": "markdown",
   "metadata": {},
   "source": [
    "**Beginning of data cleaning**"
   ]
  },
  {
   "cell_type": "code",
   "execution_count": 9,
   "metadata": {},
   "outputs": [],
   "source": [
    "unempl = outer.copy()\n",
    "unempl.rename(columns = {\"OMRÅDE\": \"municipality\", \"ALDER\":\"age\", \"KØN\":\"gender\",\"TID\":\"time\",\"INDHOLD\":\"unemployed\"}, inplace=True) #Renames the columns from Danish to English\n",
    "drop_columns = [\"YDELSESTYPE\", \"AKASSE\"] #Drops the data from YDELSESTYPE and AKASSE as they are unimportant for this assignment\n",
    "unempl.drop(drop_columns, axis=1, inplace=True)\n",
    "unempl = unempl.sort_values(['municipality', 'time']) #Sorts the dataset by municipality then time"
   ]
  },
  {
   "cell_type": "markdown",
   "metadata": {},
   "source": [
    "Deletes any row, where it isn't a municipality"
   ]
  },
  {
   "cell_type": "code",
   "execution_count": 10,
   "metadata": {},
   "outputs": [],
   "source": [
    "I = unempl.municipality.str.contains('Region')\n",
    "I |= unempl.municipality.str.contains('Province')\n",
    "I |= unempl.municipality.str.contains('All Denmark')\n",
    "unempl = unempl.loc[I == False] #Keep everything that isn't \"I\""
   ]
  },
  {
   "cell_type": "code",
   "execution_count": 11,
   "metadata": {},
   "outputs": [
    {
     "data": {
      "text/html": [
       "<div>\n",
       "<style scoped>\n",
       "    .dataframe tbody tr th:only-of-type {\n",
       "        vertical-align: middle;\n",
       "    }\n",
       "\n",
       "    .dataframe tbody tr th {\n",
       "        vertical-align: top;\n",
       "    }\n",
       "\n",
       "    .dataframe thead th {\n",
       "        text-align: right;\n",
       "    }\n",
       "</style>\n",
       "<table border=\"1\" class=\"dataframe\">\n",
       "  <thead>\n",
       "    <tr style=\"text-align: right;\">\n",
       "      <th></th>\n",
       "      <th>municipality</th>\n",
       "      <th>age</th>\n",
       "      <th>gender</th>\n",
       "      <th>time</th>\n",
       "      <th>unemployed</th>\n",
       "    </tr>\n",
       "  </thead>\n",
       "  <tbody>\n",
       "    <tr>\n",
       "      <th>6889</th>\n",
       "      <td>Aabenraa</td>\n",
       "      <td>Age, total</td>\n",
       "      <td>Total</td>\n",
       "      <td>2007-01-01</td>\n",
       "      <td>1500</td>\n",
       "    </tr>\n",
       "    <tr>\n",
       "      <th>18306</th>\n",
       "      <td>Aabenraa</td>\n",
       "      <td>Age, total</td>\n",
       "      <td>Women</td>\n",
       "      <td>2007-01-01</td>\n",
       "      <td>933</td>\n",
       "    </tr>\n",
       "    <tr>\n",
       "      <th>18307</th>\n",
       "      <td>Aabenraa</td>\n",
       "      <td>Age, total</td>\n",
       "      <td>Men</td>\n",
       "      <td>2007-01-01</td>\n",
       "      <td>567</td>\n",
       "    </tr>\n",
       "    <tr>\n",
       "      <th>2369</th>\n",
       "      <td>Aabenraa</td>\n",
       "      <td>Age, total</td>\n",
       "      <td>Total</td>\n",
       "      <td>2007-02-01</td>\n",
       "      <td>1443</td>\n",
       "    </tr>\n",
       "    <tr>\n",
       "      <th>19185</th>\n",
       "      <td>Aabenraa</td>\n",
       "      <td>Age, total</td>\n",
       "      <td>Women</td>\n",
       "      <td>2007-02-01</td>\n",
       "      <td>882</td>\n",
       "    </tr>\n",
       "    <tr>\n",
       "      <th>...</th>\n",
       "      <td>...</td>\n",
       "      <td>...</td>\n",
       "      <td>...</td>\n",
       "      <td>...</td>\n",
       "      <td>...</td>\n",
       "    </tr>\n",
       "    <tr>\n",
       "      <th>1198</th>\n",
       "      <td>Ærø</td>\n",
       "      <td>Age, total</td>\n",
       "      <td>Men</td>\n",
       "      <td>2021-01-01</td>\n",
       "      <td>56</td>\n",
       "    </tr>\n",
       "    <tr>\n",
       "      <th>1259</th>\n",
       "      <td>Ærø</td>\n",
       "      <td>Age, total</td>\n",
       "      <td>Total</td>\n",
       "      <td>2021-01-01</td>\n",
       "      <td>107</td>\n",
       "    </tr>\n",
       "    <tr>\n",
       "      <th>1223</th>\n",
       "      <td>Ærø</td>\n",
       "      <td>Age, total</td>\n",
       "      <td>Women</td>\n",
       "      <td>2021-02-01</td>\n",
       "      <td>54</td>\n",
       "    </tr>\n",
       "    <tr>\n",
       "      <th>1224</th>\n",
       "      <td>Ærø</td>\n",
       "      <td>Age, total</td>\n",
       "      <td>Men</td>\n",
       "      <td>2021-02-01</td>\n",
       "      <td>57</td>\n",
       "    </tr>\n",
       "    <tr>\n",
       "      <th>1225</th>\n",
       "      <td>Ærø</td>\n",
       "      <td>Age, total</td>\n",
       "      <td>Total</td>\n",
       "      <td>2021-02-01</td>\n",
       "      <td>111</td>\n",
       "    </tr>\n",
       "  </tbody>\n",
       "</table>\n",
       "<p>50490 rows × 5 columns</p>\n",
       "</div>"
      ],
      "text/plain": [
       "      municipality         age gender       time  unemployed\n",
       "6889      Aabenraa  Age, total  Total 2007-01-01        1500\n",
       "18306     Aabenraa  Age, total  Women 2007-01-01         933\n",
       "18307     Aabenraa  Age, total    Men 2007-01-01         567\n",
       "2369      Aabenraa  Age, total  Total 2007-02-01        1443\n",
       "19185     Aabenraa  Age, total  Women 2007-02-01         882\n",
       "...            ...         ...    ...        ...         ...\n",
       "1198           Ærø  Age, total    Men 2021-01-01          56\n",
       "1259           Ærø  Age, total  Total 2021-01-01         107\n",
       "1223           Ærø  Age, total  Women 2021-02-01          54\n",
       "1224           Ærø  Age, total    Men 2021-02-01          57\n",
       "1225           Ærø  Age, total  Total 2021-02-01         111\n",
       "\n",
       "[50490 rows x 5 columns]"
      ]
     },
     "execution_count": 11,
     "metadata": {},
     "output_type": "execute_result"
    }
   ],
   "source": [
    "unempl"
   ]
  },
  {
   "cell_type": "markdown",
   "metadata": {},
   "source": [
    "Procent change on total for men and women "
   ]
  },
  {
   "cell_type": "code",
   "execution_count": 12,
   "metadata": {
    "tags": []
   },
   "outputs": [],
   "source": [
    "unique_areas = unempl['municipality'].unique() #Creates an array of each unique municipality name\n",
    "\n",
    "for area in unique_areas: #Takes each individual area with the restriction that gender = Total. Then it loops over each area and creates the pct change\n",
    "    I = (unempl['municipality']==area) & (unempl['gender'] == 'Total')\n",
    "    unempl.loc[I, 'pct change'] = unempl.loc[I,'unemployed'].pct_change(fill_method='ffill')"
   ]
  },
  {
   "cell_type": "code",
   "execution_count": 13,
   "metadata": {},
   "outputs": [
    {
     "data": {
      "text/html": [
       "<div>\n",
       "<style scoped>\n",
       "    .dataframe tbody tr th:only-of-type {\n",
       "        vertical-align: middle;\n",
       "    }\n",
       "\n",
       "    .dataframe tbody tr th {\n",
       "        vertical-align: top;\n",
       "    }\n",
       "\n",
       "    .dataframe thead th {\n",
       "        text-align: right;\n",
       "    }\n",
       "</style>\n",
       "<table border=\"1\" class=\"dataframe\">\n",
       "  <thead>\n",
       "    <tr style=\"text-align: right;\">\n",
       "      <th></th>\n",
       "      <th>municipality</th>\n",
       "      <th>age</th>\n",
       "      <th>gender</th>\n",
       "      <th>time</th>\n",
       "      <th>unemployed</th>\n",
       "      <th>pct change</th>\n",
       "    </tr>\n",
       "  </thead>\n",
       "  <tbody>\n",
       "    <tr>\n",
       "      <th>6889</th>\n",
       "      <td>Aabenraa</td>\n",
       "      <td>Age, total</td>\n",
       "      <td>Total</td>\n",
       "      <td>2007-01-01</td>\n",
       "      <td>1500</td>\n",
       "      <td>NaN</td>\n",
       "    </tr>\n",
       "    <tr>\n",
       "      <th>2369</th>\n",
       "      <td>Aabenraa</td>\n",
       "      <td>Age, total</td>\n",
       "      <td>Total</td>\n",
       "      <td>2007-02-01</td>\n",
       "      <td>1443</td>\n",
       "      <td>-0.038000</td>\n",
       "    </tr>\n",
       "    <tr>\n",
       "      <th>6960</th>\n",
       "      <td>Aabenraa</td>\n",
       "      <td>Age, total</td>\n",
       "      <td>Total</td>\n",
       "      <td>2007-03-01</td>\n",
       "      <td>1325</td>\n",
       "      <td>-0.081774</td>\n",
       "    </tr>\n",
       "    <tr>\n",
       "      <th>3195</th>\n",
       "      <td>Aabenraa</td>\n",
       "      <td>Age, total</td>\n",
       "      <td>Total</td>\n",
       "      <td>2007-04-01</td>\n",
       "      <td>1306</td>\n",
       "      <td>-0.014340</td>\n",
       "    </tr>\n",
       "    <tr>\n",
       "      <th>3294</th>\n",
       "      <td>Aabenraa</td>\n",
       "      <td>Age, total</td>\n",
       "      <td>Total</td>\n",
       "      <td>2007-05-01</td>\n",
       "      <td>1191</td>\n",
       "      <td>-0.088055</td>\n",
       "    </tr>\n",
       "    <tr>\n",
       "      <th>...</th>\n",
       "      <td>...</td>\n",
       "      <td>...</td>\n",
       "      <td>...</td>\n",
       "      <td>...</td>\n",
       "      <td>...</td>\n",
       "      <td>...</td>\n",
       "    </tr>\n",
       "    <tr>\n",
       "      <th>2045</th>\n",
       "      <td>Aabenraa</td>\n",
       "      <td>Age, total</td>\n",
       "      <td>Total</td>\n",
       "      <td>2020-10-01</td>\n",
       "      <td>974</td>\n",
       "      <td>-0.025025</td>\n",
       "    </tr>\n",
       "    <tr>\n",
       "      <th>746</th>\n",
       "      <td>Aabenraa</td>\n",
       "      <td>Age, total</td>\n",
       "      <td>Total</td>\n",
       "      <td>2020-11-01</td>\n",
       "      <td>933</td>\n",
       "      <td>-0.042094</td>\n",
       "    </tr>\n",
       "    <tr>\n",
       "      <th>1869</th>\n",
       "      <td>Aabenraa</td>\n",
       "      <td>Age, total</td>\n",
       "      <td>Total</td>\n",
       "      <td>2020-12-01</td>\n",
       "      <td>971</td>\n",
       "      <td>0.040729</td>\n",
       "    </tr>\n",
       "    <tr>\n",
       "      <th>1914</th>\n",
       "      <td>Aabenraa</td>\n",
       "      <td>Age, total</td>\n",
       "      <td>Total</td>\n",
       "      <td>2021-01-01</td>\n",
       "      <td>1057</td>\n",
       "      <td>0.088568</td>\n",
       "    </tr>\n",
       "    <tr>\n",
       "      <th>1943</th>\n",
       "      <td>Aabenraa</td>\n",
       "      <td>Age, total</td>\n",
       "      <td>Total</td>\n",
       "      <td>2021-02-01</td>\n",
       "      <td>1073</td>\n",
       "      <td>0.015137</td>\n",
       "    </tr>\n",
       "  </tbody>\n",
       "</table>\n",
       "<p>170 rows × 6 columns</p>\n",
       "</div>"
      ],
      "text/plain": [
       "     municipality         age gender       time  unemployed  pct change\n",
       "6889     Aabenraa  Age, total  Total 2007-01-01        1500         NaN\n",
       "2369     Aabenraa  Age, total  Total 2007-02-01        1443   -0.038000\n",
       "6960     Aabenraa  Age, total  Total 2007-03-01        1325   -0.081774\n",
       "3195     Aabenraa  Age, total  Total 2007-04-01        1306   -0.014340\n",
       "3294     Aabenraa  Age, total  Total 2007-05-01        1191   -0.088055\n",
       "...           ...         ...    ...        ...         ...         ...\n",
       "2045     Aabenraa  Age, total  Total 2020-10-01         974   -0.025025\n",
       "746      Aabenraa  Age, total  Total 2020-11-01         933   -0.042094\n",
       "1869     Aabenraa  Age, total  Total 2020-12-01         971    0.040729\n",
       "1914     Aabenraa  Age, total  Total 2021-01-01        1057    0.088568\n",
       "1943     Aabenraa  Age, total  Total 2021-02-01        1073    0.015137\n",
       "\n",
       "[170 rows x 6 columns]"
      ]
     },
     "execution_count": 13,
     "metadata": {},
     "output_type": "execute_result"
    }
   ],
   "source": [
    "\n",
    "I = (unempl['municipality']=='Aabenraa') & (unempl['gender'] == 'Total')\n",
    "unempl[I]"
   ]
  },
  {
   "cell_type": "markdown",
   "metadata": {},
   "source": [
    "# Presentation of data and analysis"
   ]
  },
  {
   "cell_type": "markdown",
   "metadata": {},
   "source": [
    "**Making graphs**"
   ]
  },
  {
   "cell_type": "code",
   "execution_count": 14,
   "metadata": {},
   "outputs": [
    {
     "data": {
      "image/png": "[encoded data removed]",
      "text/plain": [
       "<Figure size 432x288 with 1 Axes>"
      ]
     },
     "metadata": {},
     "output_type": "display_data"
    }
   ],
   "source": [
    "fig = plt.figure()\n",
    "ax = fig.add_subplot(1,1,1)\n",
    "\n",
    "unempl.loc[(unempl['municipality'] == 'Samsø') &(unempl['gender'] == 'Men'),:].plot(ax=ax, x=\"time\", y = \"unemployed\",legend=True);\n",
    "plt.show()"
   ]
  },
  {
   "cell_type": "markdown",
   "metadata": {},
   "source": [
    "Widget for unemployed sortable by municipality and gender"
   ]
  },
  {
   "cell_type": "code",
   "execution_count": 15,
   "metadata": {},
   "outputs": [
    {
     "data": {
      "application/vnd.jupyter.widget-view+json": {
       "model_id": "64dbd2b1b2814d578770e3640500a441",
       "version_major": 2,
       "version_minor": 0
      },
      "text/plain": [
       "interactive(children=(Dropdown(description='Municipality', index=73, options=('Aabenraa', 'Aalborg', 'Aarhus',…"
      ]
     },
     "metadata": {},
     "output_type": "display_data"
    }
   ],
   "source": [
    "def plot_interact(df, municipality, gender):\n",
    "    I = df['municipality'] == municipality\n",
    "    I &= df['gender'] == gender\n",
    "    df.loc[I,:].plot(x='time', y = 'unemployed', style='-o', legend=False)\n",
    "widgets.interact(plot_interact, \n",
    "    df = widgets.fixed(unempl),\n",
    "    municipality = widgets.Dropdown(description='Municipality', \n",
    "    options=unempl.municipality.unique(), \n",
    "    value='Roskilde'),\n",
    "    gender = widgets.Dropdown(description='Gender',\n",
    "    options=unempl.gender.unique(),\n",
    "    value='Men')\n",
    ");"
   ]
  },
  {
   "cell_type": "markdown",
   "metadata": {},
   "source": [
    "Create widget to see pct_change for each municipality for gender = total"
   ]
  },
  {
   "cell_type": "code",
   "execution_count": 18,
   "metadata": {},
   "outputs": [],
   "source": [
    "import matplotlib.dates as mdates"
   ]
  },
  {
   "cell_type": "code",
   "execution_count": 29,
   "metadata": {},
   "outputs": [
    {
     "ename": "ValueError",
     "evalue": "Could not convert object to NumPy datetime",
     "output_type": "error",
     "traceback": [
      "\u001b[1;31m---------------------------------------------------------------------------\u001b[0m",
      "\u001b[1;31mValueError\u001b[0m                                Traceback (most recent call last)",
      "\u001b[1;32m<ipython-input-29-913dfe385c42>\u001b[0m in \u001b[0;36m<module>\u001b[1;34m\u001b[0m\n\u001b[1;32m----> 1\u001b[1;33m \u001b[0mnp\u001b[0m\u001b[1;33m.\u001b[0m\u001b[0mdatetime64\u001b[0m\u001b[1;33m(\u001b[0m\u001b[0munempl_pct\u001b[0m\u001b[1;33m[\u001b[0m\u001b[1;34m'time'\u001b[0m\u001b[1;33m]\u001b[0m\u001b[1;33m,\u001b[0m \u001b[1;34m'Y'\u001b[0m\u001b[1;33m)\u001b[0m\u001b[1;33m\u001b[0m\u001b[1;33m\u001b[0m\u001b[0m\n\u001b[0m",
      "\u001b[1;31mValueError\u001b[0m: Could not convert object to NumPy datetime"
     ]
    }
   ],
   "source": [
    "np.datetime64(, 'Y')"
   ]
  },
  {
   "cell_type": "code",
   "execution_count": 38,
   "metadata": {},
   "outputs": [
    {
     "data": {
      "text/plain": [
       "6889    2007-01-01\n",
       "2369    2007-02-01\n",
       "6960    2007-03-01\n",
       "3195    2007-04-01\n",
       "3294    2007-05-01\n",
       "           ...    \n",
       "563     2020-10-01\n",
       "845     2020-11-01\n",
       "1169    2020-12-01\n",
       "1259    2021-01-01\n",
       "1225    2021-02-01\n",
       "Name: time, Length: 16830, dtype: object"
      ]
     },
     "execution_count": 38,
     "metadata": {},
     "output_type": "execute_result"
    }
   ],
   "source": []
  },
  {
   "cell_type": "code",
   "execution_count": null,
   "metadata": {},
   "outputs": [],
   "source": []
  },
  {
   "cell_type": "code",
   "execution_count": 45,
   "metadata": {},
   "outputs": [
    {
     "data": {
      "application/vnd.jupyter.widget-view+json": {
       "model_id": "e83bcbabdf63435499b0a560ad3fb220",
       "version_major": 2,
       "version_minor": 0
      },
      "text/plain": [
       "interactive(children=(Dropdown(description='Municipality', index=73, options=('Aabenraa', 'Aalborg', 'Aarhus',…"
      ]
     },
     "metadata": {},
     "output_type": "display_data"
    }
   ],
   "source": [
    "unempl['date']=unempl['time'].dt.date\n",
    "\n",
    "\n",
    "unempl_pct = unempl[unempl['gender'] == 'Total'] #create a variable only consisting of gender = total\n",
    "\n",
    "def plot_interact_pct(df, municipality):\n",
    "    I = df['municipality'] == municipality\n",
    "    \n",
    "    fig, ax = plt.subplots()\n",
    "    df.loc[I,:].plot(x='date',y = 'pct change', kind='bar', style='-o', legend=False,ax=ax)\n",
    "    \n",
    "    plt.locator_params(axis='x', nbins=15) #Changes how many ticks are on the graph\n",
    "\n",
    "widgets.interact(plot_interact_pct, \n",
    "    df = widgets.fixed(unempl_pct),\n",
    "    municipality = widgets.Dropdown(description='Municipality', \n",
    "    options=unempl.municipality.unique(), \n",
    "    value='Roskilde')\n",
    ");"
   ]
  },
  {
   "cell_type": "markdown",
   "metadata": {},
   "source": [
    "From the above widgets we find that smaller municipalities have a decreasing trend in unemployment, while larger municiplaities such as copenhagen has a dip in between the financial crisis of 2008 and COVID-19 similar to agregate data.*"
   ]
  },
  {
   "cell_type": "markdown",
   "metadata": {},
   "source": [
    "# Conclusion"
   ]
  },
  {
   "cell_type": "markdown",
   "metadata": {},
   "source": [
    "COVID has had a large impact on unemployment in many municipalities, but in smaler areas the effect of COVID 19 can't be seen"
   ]
  }
 ],
 "metadata": {
  "kernelspec": {
   "display_name": "Python 3",
   "language": "python",
   "name": "python3"
  },
  "language_info": {
   "codemirror_mode": {
    "name": "ipython",
    "version": 3
   },
   "file_extension": ".py",
   "mimetype": "text/x-python",
   "name": "python",
   "nbconvert_exporter": "python",
   "pygments_lexer": "ipython3",
   "version": "3.8.5"
  },
  "toc-autonumbering": true
 },
 "nbformat": 4,
 "nbformat_minor": 4
}
