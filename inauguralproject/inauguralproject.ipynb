{
 "cells": [
  {
   "cell_type": "markdown",
   "metadata": {},
   "source": [
    "# Inaugural Project\n",
    "\n",
    "**Team:** M&M\n",
    "\n",
    "**Members:** Markus Gorgone Larsen () & Matias Bjørn Frydensberg Hall (pkt593)\n",
    "\n",
    "**Imports and set magics:**"
   ]
  },
  {
   "cell_type": "code",
   "execution_count": 1,
   "metadata": {},
   "outputs": [],
   "source": [
    "import numpy as np\n",
    "import copy\n",
    "from types import SimpleNamespace\n",
    "from scipy import optimize\n",
    "%matplotlib inline\n",
    "import matplotlib.pyplot as plt\n",
    "plt.style.use('seaborn-whitegrid')\n",
    "\n",
    "# Autoreload modules when code is run\n",
    "%load_ext autoreload\n",
    "%autoreload 2\n",
    "\n",
    "# local modules\n",
    "import inauguralproject"
   ]
  },
  {
   "cell_type": "markdown",
   "metadata": {},
   "source": [
    "# Question 1"
   ]
  },
  {
   "cell_type": "markdown",
   "metadata": {},
   "source": [
    "We consider a household solving the following maximisation problem when looking to buy a home:\n",
    "\n",
    "\n",
    "$$\n",
    "\\begin{aligned}\n",
    "c^*, h^* & =  \\text{arg}\\max_{c,h}c^{1-\\phi}h^\\phi\\\\\n",
    "& \\text{s.t.}\\\\\n",
    "\\tilde{p}_h & = p_h\\epsilon\\\\\n",
    "m & = \\tau(p_h, \\tilde{p}_h) + c\\\\\n",
    "\\tau(p_h, \\tilde{p}_h) & = rp_h +\\tau^g\\tilde{p}_h + \\tau^p max\\{\\tilde{p}_h - \\bar{p}, 0\\}\n",
    "\\end{aligned}\n",
    "$$\n",
    "\n",
    "Where $c$ is consumption, $h$ is housing quality, $p_h$ is the price of housing, $\\epsilon$ is the public housing assement factor, $\\phi$ is the Cobb-Douglas weights, $m$ is cash-on-hand, $r$ is the mortgage interest rate, $\\tau^g$ is the base housing tax, $\\tau^p$ is the progressive housing tax and $\\bar{p}$ is the cutoff price for the progressive tax.\n",
    "\n",
    "As utility is monotonically increasing in consumption we can define consumption as:\n",
    "$$\n",
    "c = m - \\tau(p_h, \\tilde{p}_h)\n",
    "$$\n",
    "\n",
    "Plugging c into the utility function we get the following:\n",
    "$$\n",
    "c^*, h^* & = \\text{arg}\\max_{h}(m - rp_h +\\tau^g\\tilde{p}_h + \\tau^p max\\{\\tilde{p}_h - \\bar{p}, 0\\})^{1-\\phi}h^\\phi\n",
    "$$\n",
    "\n",
    "The utility function and optimisation function is defined in the module and used to solve the households problem"
   ]
  },
  {
   "cell_type": "code",
   "execution_count": 4,
   "metadata": {},
   "outputs": [
    {
     "name": "stdout",
     "output_type": "stream",
     "text": [
      "The household will choose optimal housing = 4.17, which implies optimal consumption = 0.35 and utility = 0.74\n"
     ]
    }
   ],
   "source": [
    "# a. Create simplenamespace and set parameter values\n",
    "par = SimpleNamespace()\n",
    "\n",
    "par.phi = 0.3\n",
    "par.epsilon = 0.5\n",
    "par.r = 0.03\n",
    "par.tau_g = 0.012\n",
    "par.tau_p = 0.004\n",
    "par.p_bar = 3\n",
    "par.m = 0.5\n",
    "par.seed = 1\n",
    "\n",
    "# b. Compute optimal housing quality, consumption and utility\n",
    "h_star, c_star, u_star = inauguralproject.u_optimize(par)\n",
    "\n",
    "# c. Print solution\n",
    "print(f'The household will choose optimal housing = {h_star:.2f}, which implies optimal consumption = {c_star:.2f} and utility = {u_star:.2f}')"
   ]
  },
  {
   "cell_type": "markdown",
   "metadata": {},
   "source": [
    "# Question 2"
   ]
  },
  {
   "cell_type": "markdown",
   "metadata": {},
   "source": [
    "First we create an array of equally spaced values of m using linespace for values between 0.4 and 1.5. We also create empty arrays as contains for h, c and u values. We then find the optimal values by looping over the values of m. Finally we plot the two graphs. We observe that when m is in the range of 0.72 to about 0.75 optimal housing is unchanged at 6, while consumption increase more rapidly in this range. This is due to the cutoff price. In this range it is more benificial for the household to spend little more than 70% on consumption due to the fact that higher housing quality would increase taxes which in the interval offsets the higher utility from higher housing quality."
   ]
  },
  {
   "cell_type": "code",
   "execution_count": 8,
   "metadata": {},
   "outputs": [
    {
     "data": {
      "image/png": "[encoded data removed]",
      "text/plain": [
       "<Figure size 720x288 with 2 Axes>"
      ]
     },
     "metadata": {},
     "output_type": "display_data"
    }
   ],
   "source": [
    "# a. Create array of m's and container for h*, c* and u*\n",
    "N = 1000\n",
    "m_vec = np.linspace(0.4, 1.5, N)\n",
    "h_vec = np.zeros(N)\n",
    "c_vec = np.zeros(N)\n",
    "u_vec = np.zeros(N)\n",
    "\n",
    "# b. Loop the optimise function over the m_vec array\n",
    "for i in range(N):\n",
    "    par.m = m_vec[i]\n",
    "    h_vec[i], c_vec[i], u_vec[i] = inauguralproject.u_optimize(par)\n",
    "\n",
    "# c. Create graph and plot\n",
    "inauguralproject.two_figures(m_vec, c_vec, \"Consumption\", \"$m$\", \"$c$\", m_vec, h_vec, \"House Quality\", \"$m$\", \"$h$\")"
   ]
  },
  {
   "cell_type": "markdown",
   "metadata": {},
   "source": [
    "# Question 3"
   ]
  },
  {
   "cell_type": "markdown",
   "metadata": {},
   "source": [
    "ADD ANSWER."
   ]
  },
  {
   "cell_type": "code",
   "execution_count": 4,
   "metadata": {},
   "outputs": [],
   "source": [
    "# a. Adding population size, mean and standard deviation to namespace of parameters\n",
    "par.pop = 10000\n",
    "par.mu = -0.4\n",
    "par.sigma = 0.35\n",
    "\n",
    "# b. Compute the total tax burden\n",
    "T = tax_total(par)\n",
    "\n",
    "print(f'The total tax revenue is {T:.2f}')"
   ]
  },
  {
   "cell_type": "markdown",
   "metadata": {},
   "source": [
    "## Bonus"
   ]
  },
  {
   "cell_type": "code",
   "execution_count": null,
   "metadata": {},
   "outputs": [],
   "source": []
  },
  {
   "cell_type": "markdown",
   "metadata": {},
   "source": [
    "# Question 4"
   ]
  },
  {
   "cell_type": "markdown",
   "metadata": {},
   "source": [
    "ADD ANSWER."
   ]
  },
  {
   "cell_type": "code",
   "execution_count": 5,
   "metadata": {},
   "outputs": [],
   "source": [
    "# code"
   ]
  },
  {
   "cell_type": "markdown",
   "metadata": {},
   "source": [
    "# Question 5"
   ]
  },
  {
   "cell_type": "markdown",
   "metadata": {},
   "source": [
    "ADD ANSWER."
   ]
  },
  {
   "cell_type": "code",
   "execution_count": 6,
   "metadata": {},
   "outputs": [],
   "source": [
    "# code"
   ]
  },
  {
   "cell_type": "markdown",
   "metadata": {},
   "source": [
    "# Conclusion"
   ]
  },
  {
   "cell_type": "markdown",
   "metadata": {},
   "source": [
    "ADD CONCISE CONLUSION."
   ]
  }
 ],
 "metadata": {
  "kernelspec": {
   "display_name": "Python 3",
   "language": "python",
   "name": "python3"
  },
  "language_info": {
   "codemirror_mode": {
    "name": "ipython",
    "version": 3
   },
   "file_extension": ".py",
   "mimetype": "text/x-python",
   "name": "python",
   "nbconvert_exporter": "python",
   "pygments_lexer": "ipython3",
   "version": "3.8.5"
  },
  "toc-autonumbering": true
 },
 "nbformat": 4,
 "nbformat_minor": 4
}
